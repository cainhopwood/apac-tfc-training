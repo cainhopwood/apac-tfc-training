{
 "cells": [
  {
   "cell_type": "markdown",
   "metadata": {},
   "source": [
    "## Final Project Day 1: K Nearest Neighbors Model for the Product Safety Dataset\n",
    "\n",
    "For the final project, build a K Nearest Neighbors model to predict the __human_tag__ field of the dataset. You will submit your predictions to the Leaderboard competition here: https://leaderboard.corp.amazon.com/tasks/352\n",
    "\n",
    "Use the notebooks from the class and implement the model, train and test with the corresponding datasets. Differently from the in-class exercise (regressor), you will develop a __classifier__. We are using F1 score to rank submissions. Sklearn provides the [__f1_score():__](https://scikit-learn.org/stable/modules/generated/sklearn.metrics.f1_score.html) function if you want to see how your model works on your training or validation set.\n",
    "\n",
    "You can follow these steps:\n",
    "1. Read training-test data (Given)\n",
    "2. Train a KNN classifier (Implement)\n",
    "3. Make predictions on your test dataset (Implement)\n",
    "4. Write your test predictions to a CSV file (Given)\n",
    "\n",
    "__You can use the KNN Classifier from here: https://scikit-learn.org/stable/modules/generated/sklearn.neighbors.KNeighborsClassifier.html__"
   ]
  },
  {
   "cell_type": "markdown",
   "metadata": {},
   "source": [
    "## 1. Reading the dataset\n",
    "\n",
    "We will use the __pandas__ library to read our dataset. Let's first run the following credential cell and then download the files."
   ]
  },
  {
   "cell_type": "markdown",
   "metadata": {},
   "source": [
    "#### __Training data:__"
   ]
  },
  {
   "cell_type": "code",
   "execution_count": 1,
   "metadata": {},
   "outputs": [
    {
     "data": {
      "text/html": [
       "<div>\n",
       "<style scoped>\n",
       "    .dataframe tbody tr th:only-of-type {\n",
       "        vertical-align: middle;\n",
       "    }\n",
       "\n",
       "    .dataframe tbody tr th {\n",
       "        vertical-align: top;\n",
       "    }\n",
       "\n",
       "    .dataframe thead th {\n",
       "        text-align: right;\n",
       "    }\n",
       "</style>\n",
       "<table border=\"1\" class=\"dataframe\">\n",
       "  <thead>\n",
       "    <tr style=\"text-align: right;\">\n",
       "      <th></th>\n",
       "      <th>ID</th>\n",
       "      <th>doc_id</th>\n",
       "      <th>text</th>\n",
       "      <th>date</th>\n",
       "      <th>star_rating</th>\n",
       "      <th>title</th>\n",
       "      <th>human_tag</th>\n",
       "    </tr>\n",
       "  </thead>\n",
       "  <tbody>\n",
       "    <tr>\n",
       "      <th>0</th>\n",
       "      <td>47490</td>\n",
       "      <td>15808037321</td>\n",
       "      <td>I ordered a sample of the Dietspotlight Burn, ...</td>\n",
       "      <td>6/25/2018 17:51</td>\n",
       "      <td>1</td>\n",
       "      <td>DO NOT BUY!</td>\n",
       "      <td>0</td>\n",
       "    </tr>\n",
       "    <tr>\n",
       "      <th>1</th>\n",
       "      <td>16127</td>\n",
       "      <td>16042300811</td>\n",
       "      <td>This coffee tasts terrible as if it got burnt ...</td>\n",
       "      <td>2/8/2018 15:59</td>\n",
       "      <td>2</td>\n",
       "      <td>Coffee not good</td>\n",
       "      <td>0</td>\n",
       "    </tr>\n",
       "    <tr>\n",
       "      <th>2</th>\n",
       "      <td>51499</td>\n",
       "      <td>16246716471</td>\n",
       "      <td>I've been buying lightly salted Planters cashe...</td>\n",
       "      <td>3/22/2018 17:53</td>\n",
       "      <td>2</td>\n",
       "      <td>Poor Quality - Burnt, Shriveled Nuts With Blac...</td>\n",
       "      <td>0</td>\n",
       "    </tr>\n",
       "    <tr>\n",
       "      <th>3</th>\n",
       "      <td>36725</td>\n",
       "      <td>14460351031</td>\n",
       "      <td>This product is great in so many ways. It goes...</td>\n",
       "      <td>12/7/2017 8:49</td>\n",
       "      <td>4</td>\n",
       "      <td>Very lovey product, good sunscreen, but strong...</td>\n",
       "      <td>0</td>\n",
       "    </tr>\n",
       "    <tr>\n",
       "      <th>4</th>\n",
       "      <td>49041</td>\n",
       "      <td>15509997211</td>\n",
       "      <td>My skin did not agree with this product, it wo...</td>\n",
       "      <td>3/21/2018 13:51</td>\n",
       "      <td>1</td>\n",
       "      <td>Not for everyone. Reactions can be harsh.</td>\n",
       "      <td>1</td>\n",
       "    </tr>\n",
       "  </tbody>\n",
       "</table>\n",
       "</div>"
      ],
      "text/plain": [
       "      ID       doc_id                                               text  \\\n",
       "0  47490  15808037321  I ordered a sample of the Dietspotlight Burn, ...   \n",
       "1  16127  16042300811  This coffee tasts terrible as if it got burnt ...   \n",
       "2  51499  16246716471  I've been buying lightly salted Planters cashe...   \n",
       "3  36725  14460351031  This product is great in so many ways. It goes...   \n",
       "4  49041  15509997211  My skin did not agree with this product, it wo...   \n",
       "\n",
       "              date  star_rating  \\\n",
       "0  6/25/2018 17:51            1   \n",
       "1   2/8/2018 15:59            2   \n",
       "2  3/22/2018 17:53            2   \n",
       "3   12/7/2017 8:49            4   \n",
       "4  3/21/2018 13:51            1   \n",
       "\n",
       "                                               title  human_tag  \n",
       "0                                        DO NOT BUY!          0  \n",
       "1                                    Coffee not good          0  \n",
       "2  Poor Quality - Burnt, Shriveled Nuts With Blac...          0  \n",
       "3  Very lovey product, good sunscreen, but strong...          0  \n",
       "4          Not for everyone. Reactions can be harsh.          1  "
      ]
     },
     "execution_count": 1,
     "metadata": {},
     "output_type": "execute_result"
    }
   ],
   "source": [
    "import pandas as pd\n",
    "\n",
    "train_df = pd.read_csv('data/final_project/training.csv', encoding='utf-8', header=0)\n",
    "train_df.head()"
   ]
  },
  {
   "cell_type": "markdown",
   "metadata": {},
   "source": [
    "#### __Test data:__"
   ]
  },
  {
   "cell_type": "code",
   "execution_count": 18,
   "metadata": {},
   "outputs": [
    {
     "data": {
      "text/html": [
       "<div>\n",
       "<style scoped>\n",
       "    .dataframe tbody tr th:only-of-type {\n",
       "        vertical-align: middle;\n",
       "    }\n",
       "\n",
       "    .dataframe tbody tr th {\n",
       "        vertical-align: top;\n",
       "    }\n",
       "\n",
       "    .dataframe thead th {\n",
       "        text-align: right;\n",
       "    }\n",
       "</style>\n",
       "<table border=\"1\" class=\"dataframe\">\n",
       "  <thead>\n",
       "    <tr style=\"text-align: right;\">\n",
       "      <th></th>\n",
       "      <th>ID</th>\n",
       "      <th>doc_id</th>\n",
       "      <th>text</th>\n",
       "      <th>date</th>\n",
       "      <th>star_rating</th>\n",
       "      <th>title</th>\n",
       "    </tr>\n",
       "  </thead>\n",
       "  <tbody>\n",
       "    <tr>\n",
       "      <th>0</th>\n",
       "      <td>62199</td>\n",
       "      <td>15449606311</td>\n",
       "      <td>Quality of material is great, however, the bac...</td>\n",
       "      <td>3/7/2018 19:47</td>\n",
       "      <td>3</td>\n",
       "      <td>great backpack with strange fit</td>\n",
       "    </tr>\n",
       "    <tr>\n",
       "      <th>1</th>\n",
       "      <td>76123</td>\n",
       "      <td>15307152511</td>\n",
       "      <td>The product was okay but wasn't refined campho...</td>\n",
       "      <td>43135.875</td>\n",
       "      <td>2</td>\n",
       "      <td>Not refined</td>\n",
       "    </tr>\n",
       "    <tr>\n",
       "      <th>2</th>\n",
       "      <td>78742</td>\n",
       "      <td>12762748321</td>\n",
       "      <td>I normally read the reviews before buying some...</td>\n",
       "      <td>42997.37708</td>\n",
       "      <td>1</td>\n",
       "      <td>Doesnt work, wouldnt recommend</td>\n",
       "    </tr>\n",
       "    <tr>\n",
       "      <th>3</th>\n",
       "      <td>64010</td>\n",
       "      <td>15936405041</td>\n",
       "      <td>These pads are completely worthless. The light...</td>\n",
       "      <td>43313.25417</td>\n",
       "      <td>1</td>\n",
       "      <td>The lighter colored side of the pads smells li...</td>\n",
       "    </tr>\n",
       "    <tr>\n",
       "      <th>4</th>\n",
       "      <td>17058</td>\n",
       "      <td>13596875291</td>\n",
       "      <td>The saw works great but the blade oiler does n...</td>\n",
       "      <td>12/5/2017 20:17</td>\n",
       "      <td>2</td>\n",
       "      <td>The saw works great but the blade oiler does n...</td>\n",
       "    </tr>\n",
       "  </tbody>\n",
       "</table>\n",
       "</div>"
      ],
      "text/plain": [
       "      ID       doc_id                                               text  \\\n",
       "0  62199  15449606311  Quality of material is great, however, the bac...   \n",
       "1  76123  15307152511  The product was okay but wasn't refined campho...   \n",
       "2  78742  12762748321  I normally read the reviews before buying some...   \n",
       "3  64010  15936405041  These pads are completely worthless. The light...   \n",
       "4  17058  13596875291  The saw works great but the blade oiler does n...   \n",
       "\n",
       "              date  star_rating  \\\n",
       "0   3/7/2018 19:47            3   \n",
       "1        43135.875            2   \n",
       "2      42997.37708            1   \n",
       "3      43313.25417            1   \n",
       "4  12/5/2017 20:17            2   \n",
       "\n",
       "                                               title  \n",
       "0                    great backpack with strange fit  \n",
       "1                                        Not refined  \n",
       "2                     Doesnt work, wouldnt recommend  \n",
       "3  The lighter colored side of the pads smells li...  \n",
       "4  The saw works great but the blade oiler does n...  "
      ]
     },
     "execution_count": 18,
     "metadata": {},
     "output_type": "execute_result"
    }
   ],
   "source": [
    "import pandas as pd\n",
    "\n",
    "test_df = pd.read_csv('data/final_project/test.csv', encoding='utf-8', header=0)\n",
    "test_df.head()"
   ]
  },
  {
   "cell_type": "markdown",
   "metadata": {},
   "source": [
    "## 2. Train a KNN Classifier\n",
    "Here, you will apply pre-processing operations in the class. Then, you can split your dataset to training and validation here. For your first submission, you will use __K Nearest Neighbors Classifier__. It is available [here](https://scikit-learn.org/stable/modules/generated/sklearn.neighbors.KNeighborsClassifier.html). In the competition, we are using the F1 score. In sklearn, you can use the [__f1_score():__](https://scikit-learn.org/stable/modules/generated/sklearn.metrics.f1_score.html) function to see your F1 score on your training or validation set."
   ]
  },
  {
   "cell_type": "markdown",
   "metadata": {},
   "source": [
    "### Exploratory data analysis and missing value imputation"
   ]
  },
  {
   "cell_type": "markdown",
   "metadata": {},
   "source": [
    "Let's look at the range and distribution of __human_tag__."
   ]
  },
  {
   "cell_type": "code",
   "execution_count": 3,
   "metadata": {},
   "outputs": [
    {
     "data": {
      "image/png": "[encoded data removed]",
      "text/plain": [
       "<Figure size 432x288 with 1 Axes>"
      ]
     },
     "metadata": {},
     "output_type": "display_data"
    }
   ],
   "source": [
    "%matplotlib inline\n",
    "import matplotlib.pyplot as plt\n",
    "\n",
    "train_df[\"human_tag\"].plot.hist()\n",
    "plt.show()"
   ]
  },
  {
   "cell_type": "markdown",
   "metadata": {},
   "source": [
    "Let's look at the range and distribution of __star_rating__."
   ]
  },
  {
   "cell_type": "code",
   "execution_count": 4,
   "metadata": {},
   "outputs": [
    {
     "data": {
      "image/png": "[encoded data removed]",
      "text/plain": [
       "<Figure size 432x288 with 1 Axes>"
      ]
     },
     "metadata": {},
     "output_type": "display_data"
    }
   ],
   "source": [
    "%matplotlib inline\n",
    "import matplotlib.pyplot as plt\n",
    "\n",
    "train_df[\"star_rating\"].plot.hist()\n",
    "plt.show()"
   ]
  },
  {
   "cell_type": "markdown",
   "metadata": {},
   "source": [
    "We can check the number of missing values for each columm below."
   ]
  },
  {
   "cell_type": "code",
   "execution_count": 5,
   "metadata": {},
   "outputs": [
    {
     "name": "stdout",
     "output_type": "stream",
     "text": [
      "ID             0\n",
      "doc_id         0\n",
      "text           6\n",
      "date           0\n",
      "star_rating    0\n",
      "title          1\n",
      "human_tag      0\n",
      "dtype: int64\n"
     ]
    }
   ],
   "source": [
    "print(train_df.isna().sum())\n"
   ]
  },
  {
   "cell_type": "markdown",
   "metadata": {},
   "source": [
    "Let's fill-in the missing values for __reviewText__ below. We will just use the placeholder \"Missing\" here."
   ]
  },
  {
   "cell_type": "code",
   "execution_count": 6,
   "metadata": {},
   "outputs": [],
   "source": [
    "train_df[\"text\"].fillna(\"Missing\", inplace=True)\n",
    "train_df[\"title\"].fillna(\"Missing\", inplace=True)\n"
   ]
  },
  {
   "cell_type": "markdown",
   "metadata": {},
   "source": [
    "### 3. Stop word removal and stemming"
   ]
  },
  {
   "cell_type": "code",
   "execution_count": 7,
   "metadata": {},
   "outputs": [
    {
     "name": "stdout",
     "output_type": "stream",
     "text": [
      "[nltk_data] Downloading package punkt to /home/ec2-user/nltk_data...\n",
      "[nltk_data]   Package punkt is already up-to-date!\n",
      "[nltk_data] Downloading package stopwords to\n",
      "[nltk_data]     /home/ec2-user/nltk_data...\n",
      "[nltk_data]   Package stopwords is already up-to-date!\n",
      "[nltk_data] Downloading package averaged_perceptron_tagger to\n",
      "[nltk_data]     /home/ec2-user/nltk_data...\n",
      "[nltk_data]   Package averaged_perceptron_tagger is already up-to-\n",
      "[nltk_data]       date!\n",
      "[nltk_data] Downloading package wordnet to /home/ec2-user/nltk_data...\n",
      "[nltk_data]   Package wordnet is already up-to-date!\n"
     ]
    },
    {
     "data": {
      "text/plain": [
       "True"
      ]
     },
     "execution_count": 7,
     "metadata": {},
     "output_type": "execute_result"
    }
   ],
   "source": [
    "# Install the library and functions\n",
    "import nltk\n",
    "\n",
    "nltk.download('punkt')\n",
    "nltk.download('stopwords')\n",
    "nltk.download('averaged_perceptron_tagger')\n",
    "nltk.download('wordnet')"
   ]
  },
  {
   "cell_type": "markdown",
   "metadata": {},
   "source": [
    "We will create the stop word removal and text cleaning processes below. NLTK library provides a list of common stop words. We will use the list, but remove some of the words from that list. It is because those words are actually useful to understand the sentiment in the sentence."
   ]
  },
  {
   "cell_type": "code",
   "execution_count": 8,
   "metadata": {},
   "outputs": [],
   "source": [
    "import nltk, re\n",
    "from nltk.corpus import stopwords\n",
    "from nltk.corpus import wordnet\n",
    "from nltk.stem import SnowballStemmer\n",
    "from nltk.stem import WordNetLemmatizer\n",
    "from nltk.tokenize import word_tokenize\n",
    "\n",
    "# Let's get a list of stop words from the NLTK library\n",
    "stop = stopwords.words('english')\n",
    "\n",
    "# These words are important for our problem. We don't want to remove them.\n",
    "excluding = ['against', 'not', 'don', \"don't\",'ain', 'aren', \"aren't\", 'couldn', \"couldn't\",\n",
    "             'didn', \"didn't\", 'doesn', \"doesn't\", 'hadn', \"hadn't\", 'hasn', \"hasn't\", \n",
    "             'haven', \"haven't\", 'isn', \"isn't\", 'mightn', \"mightn't\", 'mustn', \"mustn't\",\n",
    "             'needn', \"needn't\",'shouldn', \"shouldn't\", 'wasn', \"wasn't\", 'weren', \n",
    "             \"weren't\", 'won', \"won't\", 'wouldn', \"wouldn't\"]\n",
    "\n",
    "# New stop word list\n",
    "stop_words = [word for word in stop if word not in excluding]\n",
    "\n",
    "snow = SnowballStemmer('english')\n",
    "\n",
    "# Initialize the lemmatizer\n",
    "wl = WordNetLemmatizer()\n",
    "\n",
    "# This is a helper function to map NTLK position tags\n",
    "# Full list is available here: https://www.ling.upenn.edu/courses/Fall_2003/ling001/penn_treebank_pos.html\n",
    "def get_wordnet_pos(tag):\n",
    "    if tag.startswith('J'):\n",
    "        return wordnet.ADJ\n",
    "    elif tag.startswith('V'):\n",
    "        return wordnet.VERB\n",
    "    elif tag.startswith('N'):\n",
    "        return wordnet.NOUN\n",
    "    elif tag.startswith('R'):\n",
    "        return wordnet.ADV\n",
    "    else:\n",
    "        return wordnet.NOUN\n",
    "\n",
    "def process_text(texts, lem): \n",
    "    if (lem) :\n",
    "        print (\"Processing using lematisation\")\n",
    "    else:\n",
    "        print (\"Processing using stemming\")\n",
    "        \n",
    "    final_text_list=[]\n",
    "    for sent in texts:\n",
    "        filtered_sentence=[]\n",
    "        processed_sentence = []\n",
    "        \n",
    "        sent = sent.lower() # Lowercase \n",
    "        sent = sent.strip() # Remove leading/trailing whitespace\n",
    "        sent = re.sub('\\s+', ' ', sent) # Remove extra space and tabs\n",
    "        sent = re.compile('<.*?>').sub('', sent) # Remove HTML tags/markups:\n",
    "        \n",
    "        for w in word_tokenize(sent):\n",
    "            # We are applying some custom filtering here, feel free to try different things\n",
    "            # Check if it is not numeric and its length>2 and not in stop words\n",
    "            if(not w.isnumeric()) and (len(w)>2) and (w not in stop_words):  \n",
    "                # possibly Stem and add to filtered list\n",
    "                if (lem):\n",
    "                    filtered_sentence.append(w)\n",
    "                else :\n",
    "                    filtered_sentence.append(snow.stem(w))\n",
    "        if (lem) :\n",
    "            # Get position tags\n",
    "            word_pos_tags = nltk.pos_tag(filtered_sentence)\n",
    "            # Map the position tag and lemmatize the word/token\n",
    "            for idx, tag in enumerate(word_pos_tags):\n",
    "                processed_sentence.append(wl.lemmatize(tag[0], get_wordnet_pos(tag[1])))\n",
    "            final_string = \" \".join(processed_sentence) #lematised sentence\n",
    "        else :\n",
    "            final_string = \" \".join(filtered_sentence) #final string of cleaned words\n",
    " \n",
    "        final_text_list.append(final_string)\n",
    "    \n",
    "    return final_text_list"
   ]
  },
  {
   "cell_type": "code",
   "execution_count": 9,
   "metadata": {},
   "outputs": [
    {
     "name": "stdout",
     "output_type": "stream",
     "text": [
      "Pre-processing the text field\n",
      "Processing using lematisation\n",
      "Pre-processing the title field\n",
      "Processing using lematisation\n"
     ]
    }
   ],
   "source": [
    "# use lemmatisation gloabl var\n",
    "useLem = 1\n",
    "\n",
    "print(\"Pre-processing the text field\")\n",
    "train_df[\"text\"] = process_text(train_df[\"text\"].tolist(), useLem) \n",
    "print(\"Pre-processing the title field\")\n",
    "train_df[\"title\"] = process_text(train_df[\"title\"].tolist(), useLem) "
   ]
  },
  {
   "cell_type": "markdown",
   "metadata": {},
   "source": [
    "### 4. Scaling numerical fields:\n",
    "\n",
    "We will apply min-max scaling to our rating field so that they will be between 0-1."
   ]
  },
  {
   "cell_type": "code",
   "execution_count": 10,
   "metadata": {},
   "outputs": [],
   "source": [
    "train_df[\"star_rating\"] = (train_df[\"star_rating\"] - train_df[\"star_rating\"].min())/(train_df[\"star_rating\"].max()-train_df[\"star_rating\"].min())\n",
    "#train_df[\"time\"] = (train_df[\"time\"] - train_df[\"time\"].min())/(train_df[\"time\"].max()-train_df[\"time\"].min())"
   ]
  },
  {
   "cell_type": "markdown",
   "metadata": {},
   "source": [
    "### 5. Splitting the training dataset into training and validation\n",
    "\n",
    "Sklearn library has a useful function to split datasets. We will use the __train_test_split()__ function. In the example below, we get 90% of the data for training and 10% is left for validation."
   ]
  },
  {
   "cell_type": "code",
   "execution_count": 11,
   "metadata": {},
   "outputs": [],
   "source": [
    "from sklearn.model_selection import train_test_split\n",
    "\n",
    "# Input: \"text\", \"star_rating\"\n",
    "# Target: \"uman_tag\"\n",
    "X_train, X_val, y_train, y_val = train_test_split(train_df[[\"text\", \"title\", \"star_rating\"]],\n",
    "                                                  train_df[\"human_tag\"].tolist(),\n",
    "                                                  test_size=0.10,\n",
    "                                                  shuffle=True\n",
    "                                                 )"
   ]
  },
  {
   "cell_type": "markdown",
   "metadata": {},
   "source": [
    "### 6. Computing Bag of Words features\n",
    "\n",
    "We are using binary features here. TF and TF-IDF are also other options."
   ]
  },
  {
   "cell_type": "code",
   "execution_count": 12,
   "metadata": {},
   "outputs": [],
   "source": [
    "from sklearn.feature_extraction.text import CountVectorizer, TfidfVectorizer\n",
    "\n",
    "# Initialize the binary count vectorizer\n",
    "tfidf_vectorizer = CountVectorizer(binary=True,\n",
    "                                   max_features=200    # Limit the vocabulary size\n",
    "                                  )\n",
    "tfidf_vectorizer_title = CountVectorizer(binary=True,\n",
    "                                   max_features=100    # Limit the vocabulary size\n",
    "                                  )\n",
    "# Fit and transform\n",
    "X_train_text_vectors = tfidf_vectorizer.fit_transform(X_train[\"text\"].tolist())\n",
    "X_train_title_vectors = tfidf_vectorizer_title.fit_transform(X_train[\"title\"].tolist())\n",
    "# Only transform\n",
    "X_val_text_vectors = tfidf_vectorizer.transform(X_val[\"text\"].tolist())\n",
    "X_val_title_vectors = tfidf_vectorizer_title.transform(X_val[\"title\"].tolist())"
   ]
  },
  {
   "cell_type": "markdown",
   "metadata": {},
   "source": [
    "Let's print our vocabulary below. The number next to the word is its index in the vocabulary."
   ]
  },
  {
   "cell_type": "code",
   "execution_count": 13,
   "metadata": {},
   "outputs": [
    {
     "name": "stdout",
     "output_type": "stream",
     "text": [
      "{'look': 94, 'good': 62, 'however': 77, 'start': 165, 'could': 31, 'see': 151, 'burnt': 21, 'never': 109, 'back': 10, 'make': 98, 'pay': 122, 'return': 145, 'bad': 11, 'item': 81, 'amazon': 5, 'get': 59, 'not': 113, 'two': 182, 'different': 37, 'problem': 130, 'expect': 47, 'fire': 55, 'light': 89, 'work': 196, 'box': 16, 'smell': 161, 'like': 90, 'something': 163, 'burn': 19, 'still': 168, 'come': 29, 'also': 3, 'would': 198, 'place': 125, 'close': 27, 're': 136, 'try': 180, 'stick': 167, 'even': 43, 'use': 184, 'size': 158, 'every': 45, 'actually': 1, 'pretty': 127, 'away': 9, 'easy': 40, 'people': 123, 'clean': 26, 'take': 171, 'remove': 143, 'heat': 70, 'hard': 69, 'keep': 82, 'break': 18, 'piece': 124, 'stay': 166, 'taste': 172, 'great': 63, 'day': 34, 'week': 192, 'help': 71, 'need': 108, 'money': 105, 'second': 150, 'time': 178, 'purchase': 132, 'product': 131, 'first': 56, 'really': 138, 'want': 186, 'think': 176, 'buy': 22, 'long': 93, 'around': 8, 'it': 80, 'hair': 64, 've': 185, 'anything': 7, 'much': 107, 'oil': 116, 'several': 155, 'month': 106, 'open': 119, 'leave': 86, 'old': 117, 'eye': 48, 'without': 195, 'waste': 188, 'well': 193, 'say': 149, 'put': 133, 'find': 52, 'one': 118, 'way': 190, 'another': 6, 'little': 91, 'since': 157, 'though': 177, 'big': 13, 'review': 146, 'may': 100, 'receive': 140, 'almost': 2, 'cook': 30, 'set': 154, 'turn': 181, 'last': 85, 'go': 61, 'notice': 115, 'food': 58, 'many': 99, 'unit': 183, 'love': 96, 'easily': 39, 'finger': 54, 'wear': 191, 'feel': 51, 'give': 60, 'star': 164, 'seem': 152, 'wish': 194, 'year': 199, 'replace': 144, 'far': 50, 'send': 153, 'll': 92, 'always': 4, 'run': 148, 'part': 121, 'reason': 139, 'half': 65, 'quality': 134, 'color': 28, 'cheap': 25, 'burning': 20, 'hand': 66, 'top': 179, 'order': 120, 'battery': 12, 'low': 97, 'thing': 175, 'high': 72, 'know': 83, 'new': 110, 'price': 128, 'probably': 129, 'recommend': 141, 'might': 103, 'cause': 23, 'end': 41, 'hot': 74, 'able': 0, 'handle': 67, 'ever': 44, 'minute': 104, 'hour': 75, 'enough': 42, 'cut': 33, 'plastic': 126, 'face': 49, 'wash': 187, 'lot': 95, 'skin': 159, 'small': 160, 'happen': 68, 'couple': 32, 'bottom': 15, 'everything': 46, 'sure': 170, 'read': 137, 'next': 111, 'house': 76, 'water': 189, 'inside': 78, 'less': 87, 'the': 174, 'large': 84, 'dry': 38, 'stop': 169, 'red': 142, 'bit': 14, 'issue': 79, 'let': 88, 'right': 147, 'worth': 197, 'maybe': 101, 'melt': 102, 'tell': 173, 'nothing': 114, 'fit': 57, 'brand': 17, 'side': 156, 'hold': 73, 'charge': 24, 'smoke': 162, 'design': 36, 'nice': 112, 'fine': 53, 'quickly': 135, 'definitely': 35}\n",
      "{'buy': 7, 'review': 72, 'waste': 92, 'money': 55, 'fire': 28, 'try': 88, 'like': 49, 'not': 60, 'easily': 19, 'bad': 0, 'well': 95, 'look': 52, 'much': 57, 'work': 96, 'great': 35, 'light': 48, 'year': 99, 'good': 34, 'easy': 20, 'clean': 11, 'nice': 59, 'hot': 42, 'item': 43, 'hand': 37, 'one': 61, 'star': 79, 'cheap': 10, 'dangerous': 15, 'hair': 36, 'burn': 4, 'battery': 1, 'job': 44, 'price': 66, 'terrible': 84, 'quality': 69, 'use': 90, 'taste': 83, 'junk': 45, 'still': 81, 'plastic': 63, 'handle': 38, 'heat': 40, 'careful': 8, 'love': 53, 'burnt': 6, 'want': 91, 'really': 70, 'feel': 26, 'product': 67, 'skin': 76, 'start': 80, 'ever': 22, 'two': 89, 'poor': 64, 'fine': 27, 'month': 56, 'eye': 24, 'best': 2, 'four': 31, 'make': 54, 'smell': 78, 'small': 77, 'happy': 39, 'would': 98, 'recommend': 71, 'disappointed': 18, 'three': 86, 'worth': 97, 'seem': 73, 'burning': 5, 'day': 16, 'time': 87, 'first': 29, 'beware': 3, 'give': 33, 'size': 75, 'get': 32, 'thing': 85, 'long': 51, 'color': 12, 'design': 17, 'pretty': 65, 'need': 58, 'expect': 23, 'little': 50, 'come': 13, 'horrible': 41, 'way': 93, 'perfect': 62, 'even': 21, 'sensitive': 74, 'last': 47, 'keep': 46, 'purchase': 68, 'fit': 30, 'face': 25, 'cause': 9, 'take': 82, 'could': 14, 'week': 94}\n"
     ]
    }
   ],
   "source": [
    "print(tfidf_vectorizer.vocabulary_)\n",
    "print(tfidf_vectorizer_title.vocabulary_)\n"
   ]
  },
  {
   "cell_type": "markdown",
   "metadata": {},
   "source": [
    "### 7. Fitting Classifier"
   ]
  },
  {
   "cell_type": "code",
   "execution_count": 14,
   "metadata": {},
   "outputs": [
    {
     "data": {
      "text/plain": [
       "KNeighborsClassifier(algorithm='auto', leaf_size=30, metric='minkowski',\n",
       "           metric_params=None, n_jobs=None, n_neighbors=5, p=2,\n",
       "           weights='uniform')"
      ]
     },
     "execution_count": 14,
     "metadata": {},
     "output_type": "execute_result"
    }
   ],
   "source": [
    "import numpy as np\n",
    "from sklearn.neighbors import KNeighborsClassifier\n",
    "\n",
    "from time import time\n",
    "start = time()\n",
    "\n",
    "# Let' merge our features\n",
    "X_train_features = np.column_stack((X_train_text_vectors.toarray(), \n",
    "                                    X_train_title_vectors.toarray(),\n",
    "                                    X_train[\"star_rating\"].values )\n",
    "                                  )\n",
    "\n",
    "# Using the default KNN with 5 nearest neighbors\n",
    "knnClass = KNeighborsClassifier(n_neighbors=5)\n",
    "knnClass.fit(X_train_features, y_train)"
   ]
  },
  {
   "cell_type": "markdown",
   "metadata": {},
   "source": [
    "### 8. Checking model performance on the validation dataset\n"
   ]
  },
  {
   "cell_type": "code",
   "execution_count": 16,
   "metadata": {},
   "outputs": [
    {
     "name": "stdout",
     "output_type": "stream",
     "text": [
      "KNN Training and validation time for one value of K (in seconds): 362.6898639202118\n",
      "Mean_squared_error: 0.171207,  f1_score: 0.269101\n"
     ]
    }
   ],
   "source": [
    "from sklearn.metrics import f1_score, mean_squared_error\n",
    "\n",
    "X_val_features = np.column_stack((X_val_text_vectors.toarray(), \n",
    "                                  X_val_title_vectors.toarray(),\n",
    "                                  X_val[\"star_rating\"].values) )\n",
    "\n",
    "val_predictions = knnClass.predict(X_val_features)\n",
    "\n",
    "end = time()\n",
    "print('KNN Training and validation time for one value of K (in seconds):', end-start)\n",
    "\n",
    "print(\"Mean_squared_error: %f,  f1_score: %f\" % (mean_squared_error(y_val, val_predictions), f1_score(y_val, val_predictions)))"
   ]
  },
  {
   "cell_type": "markdown",
   "metadata": {},
   "source": [
    "### 9. Trying different K values\n",
    "\n",
    "Let's try different K values and see how the model performs with each one.\n",
    "\n",
    "*Note: When experimenting with different values of K, keep in mind that KNN training and validation for one value of K can take around 1 minute*"
   ]
  },
  {
   "cell_type": "code",
   "execution_count": null,
   "metadata": {
    "scrolled": true
   },
   "outputs": [],
   "source": [
    "K_values = [4, 5, 6, 7]\n",
    "\n",
    "for K in K_values:\n",
    "    knnClass = KNeighborsClassifier(n_neighbors=K)\n",
    "    knnClass.fit(X_train_features, y_train)\n",
    "    val_predictions = knnClass.predict(X_val_features)\n",
    "    print(\"K=%d, Mean_squared_error: %f,  f1_score: %f\" % (K, mean_squared_error(y_val, val_predictions), f1_score(y_val, val_predictions)))"
   ]
  },
  {
   "cell_type": "code",
   "execution_count": null,
   "metadata": {},
   "outputs": [],
   "source": [
    "print(val_predictions)"
   ]
  },
  {
   "cell_type": "markdown",
   "metadata": {},
   "source": [
    "## 3. Make predictions on your test dataset\n",
    "\n",
    "Once we select our best performing model, we can use it to make predictions on the test dataset. You can simply use __.fit()__ function with your training data to use the best performing K value and use __.predict()__ with your test data to get your test predictions."
   ]
  },
  {
   "cell_type": "code",
   "execution_count": 19,
   "metadata": {},
   "outputs": [
    {
     "name": "stdout",
     "output_type": "stream",
     "text": [
      "Pre-processing the text field\n",
      "Processing using lematisation\n",
      "Pre-processing the title field\n",
      "Processing using lematisation\n",
      "[0 0 0 ... 0 0 0]\n"
     ]
    }
   ],
   "source": [
    "# Pre process the test dataset same as we did training\n",
    "test_df[\"text\"].fillna(\"Missing\", inplace=True)\n",
    "test_df[\"title\"].fillna(\"Missing\", inplace=True)\n",
    "print(\"Pre-processing the text field\")\n",
    "test_df[\"text\"] = process_text(test_df[\"text\"].tolist(), useLem) \n",
    "print(\"Pre-processing the title field\")\n",
    "test_df[\"title\"] = process_text(test_df[\"title\"].tolist(), useLem) \n",
    "test_text_vectors = tfidf_vectorizer.transform(test_df[\"text\"].tolist())\n",
    "test_title_vectors = tfidf_vectorizer_title.transform(test_df[\"title\"].tolist())\n",
    "#numerics\n",
    "test_df[\"star_rating\"] = (test_df[\"star_rating\"] - test_df[\"star_rating\"].min())/(test_df[\"star_rating\"].max()-test_df[\"star_rating\"].min())\n",
    "\n",
    "# Using the default KNN with 5 nearest neighbors\n",
    "knnClass = KNeighborsClassifier(n_neighbors=5)\n",
    "knnClass.fit(X_train_features, y_train)\n",
    "\n",
    "# Now predict the test dataset\n",
    "test_features = np.column_stack((test_text_vectors.toarray(), \n",
    "                                 test_title_vectors.toarray(),\n",
    "                                  test_df[\"star_rating\"].values) )\n",
    "\n",
    "test_predictions = knnClass.predict(test_features)\n",
    "\n",
    "print(test_predictions)"
   ]
  },
  {
   "cell_type": "markdown",
   "metadata": {},
   "source": [
    "## 4. Write your predictions to a CSV file\n",
    "You can use the following code to write your test predictions to a CSV file. Then upload your file to https://leaderboard.corp.amazon.com/tasks/352/submit"
   ]
  },
  {
   "cell_type": "code",
   "execution_count": 20,
   "metadata": {},
   "outputs": [],
   "source": [
    "import pandas as pd\n",
    " \n",
    "result_df = pd.DataFrame()\n",
    "result_df[\"ID\"] = test_df[\"ID\"]\n",
    "result_df[\"human_tag\"] = test_predictions\n",
    " \n",
    "result_df.to_csv(\"project_day1_result_2.csv\", encoding='utf-8', index=False)"
   ]
  },
  {
   "cell_type": "code",
   "execution_count": null,
   "metadata": {},
   "outputs": [],
   "source": []
  }
 ],
 "metadata": {
  "kernelspec": {
   "display_name": "conda_python3",
   "language": "python",
   "name": "conda_python3"
  },
  "language_info": {
   "codemirror_mode": {
    "name": "ipython",
    "version": 3
   },
   "file_extension": ".py",
   "mimetype": "text/x-python",
   "name": "python",
   "nbconvert_exporter": "python",
   "pygments_lexer": "ipython3",
   "version": "3.6.5"
  }
 },
 "nbformat": 4,
 "nbformat_minor": 2
}
